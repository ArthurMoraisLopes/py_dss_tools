{
 "cells": [
  {
   "cell_type": "markdown",
   "id": "921dafe5667e2eaf",
   "metadata": {
    "collapsed": false
   },
   "source": [
    "# Voltage Profile DSSView View Example\n",
    "\n",
    "This notebook demonstrates how to use the `py_dss_tools` package to visualize the DSSView version of the voltage profile of a distribution feeder. The example covers compiling a DSS model, solving a snapshot simulation, and generating various voltage profile plots.\n"
   ]
  },
  {
   "cell_type": "code",
   "execution_count": 1,
   "id": "9ad9f1bd5bd101ae",
   "metadata": {
    "collapsed": false,
    "ExecuteTime": {
     "end_time": "2024-08-31T20:20:37.449292200Z",
     "start_time": "2024-08-31T20:20:36.758519Z"
    }
   },
   "outputs": [],
   "source": [
    "import py_dss_interface\n",
    "from py_dss_tools import dss_tools"
   ]
  },
  {
   "cell_type": "markdown",
   "id": "ae46aaf7930379dd",
   "metadata": {
    "collapsed": false
   },
   "source": [
    "Define the path to the DSS file"
   ]
  },
  {
   "cell_type": "code",
   "execution_count": 2,
   "id": "cf27c2ce67da8910",
   "metadata": {
    "collapsed": false,
    "ExecuteTime": {
     "end_time": "2024-08-31T20:20:37.457336300Z",
     "start_time": "2024-08-31T20:20:37.451626Z"
    }
   },
   "outputs": [],
   "source": [
    "dss_file = r\"C:\\PauloRadatz\\GitHub\\py_dss_tools\\examples\\feeders\\123Bus\\IEEE123Master.dss\""
   ]
  },
  {
   "cell_type": "markdown",
   "id": "1a09f82796c1f37d",
   "metadata": {
    "collapsed": false
   },
   "source": [
    "Create an instance of DSS"
   ]
  },
  {
   "cell_type": "code",
   "execution_count": 3,
   "id": "5bd488ce5fcc53c6",
   "metadata": {
    "collapsed": false,
    "ExecuteTime": {
     "end_time": "2024-08-31T20:20:37.480936200Z",
     "start_time": "2024-08-31T20:20:37.454301Z"
    }
   },
   "outputs": [],
   "source": [
    "dss = py_dss_interface.DSS()"
   ]
  },
  {
   "cell_type": "markdown",
   "id": "4d0f44a4b6eaae0",
   "metadata": {
    "collapsed": false
   },
   "source": [
    "Connect DSS instance to the dss_tools"
   ]
  },
  {
   "cell_type": "code",
   "execution_count": 4,
   "id": "eba6ac3df7899df8",
   "metadata": {
    "collapsed": false,
    "ExecuteTime": {
     "end_time": "2024-08-31T20:20:37.480936200Z",
     "start_time": "2024-08-31T20:20:37.479041200Z"
    }
   },
   "outputs": [],
   "source": [
    "dss_tools.update_dss(dss)"
   ]
  },
  {
   "cell_type": "markdown",
   "id": "84b83c6605fc92b6",
   "metadata": {
    "collapsed": false
   },
   "source": [
    "Compile the DSS model from the specified file, load bus coordinates for visualization"
   ]
  },
  {
   "cell_type": "code",
   "execution_count": 5,
   "id": "1cff1d260a7cef0e",
   "metadata": {
    "collapsed": false,
    "ExecuteTime": {
     "end_time": "2024-08-31T20:20:37.495280800Z",
     "start_time": "2024-08-31T20:20:37.483508100Z"
    }
   },
   "outputs": [
    {
     "data": {
      "text/plain": "''"
     },
     "execution_count": 5,
     "metadata": {},
     "output_type": "execute_result"
    }
   ],
   "source": [
    "dss.text(f\"compile [{dss_file}]\")\n",
    "dss.text(f\"buscoords buscoords.dat\")"
   ]
  },
  {
   "cell_type": "markdown",
   "id": "ccc7d5d6ff3dce10",
   "metadata": {
    "collapsed": false
   },
   "source": [
    "Add EnergyMeter and Solve Snapshot. An energymeter is added at the feeder head, and a snapshot simulation is solved to prepare for plotting the voltage profile."
   ]
  },
  {
   "cell_type": "code",
   "execution_count": 6,
   "id": "7049fbb7271bd4c4",
   "metadata": {
    "collapsed": false,
    "ExecuteTime": {
     "end_time": "2024-08-31T20:20:37.504379600Z",
     "start_time": "2024-08-31T20:20:37.495280800Z"
    }
   },
   "outputs": [],
   "source": [
    "dss_tools.model.add_line_in_vsource(add_meter=True)\n",
    "dss_tools.simulation.solve_snapshot()"
   ]
  },
  {
   "cell_type": "markdown",
   "id": "7532e0777631bc9e",
   "metadata": {
    "collapsed": false
   },
   "source": [
    "### Plot Voltage Profile using DSSView\n",
    "\n",
    "The voltage profile of the feeder is plotted using the DSSView program, the same one OpenDSS uses to plot the voltage profile. The plot is not shown in the Notebook, it is shown in a interface created by DSSView."
   ]
  },
  {
   "cell_type": "code",
   "execution_count": 7,
   "id": "8d70d057d5280c1f",
   "metadata": {
    "collapsed": false,
    "ExecuteTime": {
     "end_time": "2024-08-31T20:20:37.560984800Z",
     "start_time": "2024-08-31T20:20:37.503199200Z"
    }
   },
   "outputs": [],
   "source": [
    "dss_tools.dss_view.voltage_profile()"
   ]
  },
  {
   "cell_type": "markdown",
   "id": "11e1d4f668a56fd3",
   "metadata": {
    "collapsed": false
   },
   "source": [
    "### Conclusion\n",
    "\n",
    "In this notebook, we demonstrated how to visualize the DSSView option of the voltage profile of a distribution feeder using the `py_dss_tools` package. We covered the process of compiling a DSS model, adding an energymeter, solving a snapshot simulation, and generating various voltage profile plots. The `py_dss_tools` package provides flexibility in customizing the plots, allowing users to adjust titles, annotate specific buses, and modify Matplotlib attributes to suit their needs.\n"
   ]
  }
 ],
 "metadata": {
  "kernelspec": {
   "display_name": "Python 3 (ipykernel)",
   "language": "python",
   "name": "python3"
  },
  "language_info": {
   "codemirror_mode": {
    "name": "ipython",
    "version": 3
   },
   "file_extension": ".py",
   "mimetype": "text/x-python",
   "name": "python",
   "nbconvert_exporter": "python",
   "pygments_lexer": "ipython3",
   "version": "3.11.3"
  }
 },
 "nbformat": 4,
 "nbformat_minor": 5
}
