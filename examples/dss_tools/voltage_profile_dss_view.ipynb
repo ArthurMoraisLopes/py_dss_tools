{
 "cells": [
  {
   "cell_type": "markdown",
   "source": [
    "# Voltage Profile DSSView View Example\n",
    "\n",
    "This notebook demonstrates how to use the `py_dss_tools` package to visualize the DSSView version of the voltage profile of a distribution feeder. The example covers compiling a DSS model, solving a snapshot simulation, and generating various voltage profile plots.\n"
   ],
   "metadata": {
    "collapsed": false
   },
   "id": "921dafe5667e2eaf"
  },
  {
   "cell_type": "code",
   "execution_count": 1,
   "outputs": [],
   "source": [
    "import py_dss_interface\n",
    "from py_dss_tools import dss_tools"
   ],
   "metadata": {
    "collapsed": false,
    "ExecuteTime": {
     "end_time": "2024-08-31T12:57:41.895354500Z",
     "start_time": "2024-08-31T12:57:41.125592300Z"
    }
   },
   "id": "9ad9f1bd5bd101ae"
  },
  {
   "cell_type": "markdown",
   "source": [
    "Define the path to the DSS file"
   ],
   "metadata": {
    "collapsed": false
   },
   "id": "ae46aaf7930379dd"
  },
  {
   "cell_type": "code",
   "execution_count": 2,
   "outputs": [],
   "source": [
    "dss_file = r\"C:\\PauloRadatz\\GitHub\\py_dss_tools\\examples\\feeders\\123Bus\\IEEE123Master.dss\""
   ],
   "metadata": {
    "collapsed": false,
    "ExecuteTime": {
     "end_time": "2024-08-31T12:57:41.901422700Z",
     "start_time": "2024-08-31T12:57:41.897073800Z"
    }
   },
   "id": "cf27c2ce67da8910"
  },
  {
   "cell_type": "markdown",
   "source": [
    "Create an instance of DSS"
   ],
   "metadata": {
    "collapsed": false
   },
   "id": "1a09f82796c1f37d"
  },
  {
   "cell_type": "code",
   "execution_count": 3,
   "outputs": [],
   "source": [
    "dss = py_dss_interface.DSS()"
   ],
   "metadata": {
    "collapsed": false,
    "ExecuteTime": {
     "end_time": "2024-08-31T12:57:41.921991100Z",
     "start_time": "2024-08-31T12:57:41.900425600Z"
    }
   },
   "id": "5bd488ce5fcc53c6"
  },
  {
   "cell_type": "markdown",
   "source": [
    "Connect DSS instance to the dss_tools"
   ],
   "metadata": {
    "collapsed": false
   },
   "id": "4d0f44a4b6eaae0"
  },
  {
   "cell_type": "code",
   "execution_count": 4,
   "outputs": [],
   "source": [
    "dss_tools.update_dss(dss)"
   ],
   "metadata": {
    "collapsed": false,
    "ExecuteTime": {
     "end_time": "2024-08-31T12:57:41.934638800Z",
     "start_time": "2024-08-31T12:57:41.922982300Z"
    }
   },
   "id": "eba6ac3df7899df8"
  },
  {
   "cell_type": "markdown",
   "source": [
    "Compile the DSS model from the specified file, load bus coordinates for visualization"
   ],
   "metadata": {
    "collapsed": false
   },
   "id": "84b83c6605fc92b6"
  },
  {
   "cell_type": "code",
   "execution_count": 5,
   "outputs": [
    {
     "data": {
      "text/plain": "''"
     },
     "execution_count": 5,
     "metadata": {},
     "output_type": "execute_result"
    }
   ],
   "source": [
    "dss.text(f\"compile [{dss_file}]\")\n",
    "dss.text(f\"buscoords buscoords.dat\")"
   ],
   "metadata": {
    "collapsed": false,
    "ExecuteTime": {
     "end_time": "2024-08-31T12:57:41.944262600Z",
     "start_time": "2024-08-31T12:57:41.928142400Z"
    }
   },
   "id": "1cff1d260a7cef0e"
  },
  {
   "cell_type": "markdown",
   "source": [
    "Add EnergyMeter and Solve Snapshot. An energymeter is added at the feeder head, and a snapshot simulation is solved to prepare for plotting the voltage profile."
   ],
   "metadata": {
    "collapsed": false
   },
   "id": "ccc7d5d6ff3dce10"
  },
  {
   "cell_type": "code",
   "execution_count": 6,
   "outputs": [],
   "source": [
    "dss_tools.model.add_line_in_vsource(add_meter=True)\n",
    "dss_tools.simulation.solve_snapshot()"
   ],
   "metadata": {
    "collapsed": false,
    "ExecuteTime": {
     "end_time": "2024-08-31T12:57:41.951412400Z",
     "start_time": "2024-08-31T12:57:41.941129400Z"
    }
   },
   "id": "7049fbb7271bd4c4"
  },
  {
   "cell_type": "markdown",
   "source": [
    "### Plot Voltage Profile using DSSView\n",
    "\n",
    "The voltage profile of the feeder is plotted using the DSSView program, the same one OpenDSS uses to plot the voltage profile. The plot is not shown in the Notebook, it is shown in a interface created by DSSView."
   ],
   "metadata": {
    "collapsed": false
   },
   "id": "7532e0777631bc9e"
  },
  {
   "cell_type": "code",
   "execution_count": 7,
   "outputs": [],
   "source": [
    "dss_tools.dss_view.voltage_profile()"
   ],
   "metadata": {
    "collapsed": false,
    "ExecuteTime": {
     "end_time": "2024-08-31T12:57:42.007265500Z",
     "start_time": "2024-08-31T12:57:41.951494700Z"
    }
   },
   "id": "8d70d057d5280c1f"
  },
  {
   "cell_type": "markdown",
   "source": [
    "### Conclusion\n",
    "\n",
    "In this notebook, we demonstrated how to visualize the DSSView option of the voltage profile of a distribution feeder using the `py_dss_tools` package. We covered the process of compiling a DSS model, adding an energymeter, solving a snapshot simulation, and generating various voltage profile plots. The `py_dss_tools` package provides flexibility in customizing the plots, allowing users to adjust titles, annotate specific buses, and modify Matplotlib attributes to suit their needs.\n"
   ],
   "metadata": {
    "collapsed": false
   },
   "id": "11e1d4f668a56fd3"
  }
 ],
 "metadata": {
  "kernelspec": {
   "display_name": "Python 3",
   "language": "python",
   "name": "python3"
  },
  "language_info": {
   "codemirror_mode": {
    "name": "ipython",
    "version": 2
   },
   "file_extension": ".py",
   "mimetype": "text/x-python",
   "name": "python",
   "nbconvert_exporter": "python",
   "pygments_lexer": "ipython2",
   "version": "2.7.6"
  }
 },
 "nbformat": 4,
 "nbformat_minor": 5
}
