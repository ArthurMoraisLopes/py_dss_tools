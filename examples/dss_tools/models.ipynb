{
 "cells": [
  {
   "cell_type": "markdown",
   "source": [
    "# Model Exploration and Manipulation with py_dss_tools: A Hands-on Example\n",
    "\n",
    "This notebook focuses on the usage of the model functionality within the py_dss_tools package. It demonstrates how to explore the various components of a model, including retrieving key data about buses, lines, and loads. You'll also learn how to manipulate the model by adding new elements, modifying existing elements, and disabling components such as loads. This example highlights how py_dss_tools provides a streamlined interface for interacting with your models, making it easier to explore and adjust them."
   ],
   "metadata": {
    "collapsed": false
   },
   "id": "26bd21fe5853541"
  },
  {
   "cell_type": "code",
   "execution_count": 17,
   "outputs": [],
   "source": [
    "import py_dss_interface\n",
    "from py_dss_tools import dss_tools"
   ],
   "metadata": {
    "collapsed": false,
    "ExecuteTime": {
     "end_time": "2024-08-25T10:51:17.527573300Z",
     "start_time": "2024-08-25T10:51:17.349954700Z"
    }
   },
   "id": "5401ecf585af92bc"
  },
  {
   "cell_type": "markdown",
   "source": [
    "Define the path to the DSS file"
   ],
   "metadata": {
    "collapsed": false
   },
   "id": "3f7e3cf20e762519"
  },
  {
   "cell_type": "code",
   "execution_count": 18,
   "outputs": [],
   "source": [
    "dss_file = r\"C:\\PauloRadatz\\GitHub\\py_dss_tools\\examples\\feeders\\123Bus\\IEEE123Master.dss\""
   ],
   "metadata": {
    "collapsed": false,
    "ExecuteTime": {
     "end_time": "2024-08-25T10:51:17.557369400Z",
     "start_time": "2024-08-25T10:51:17.354937700Z"
    }
   },
   "id": "e353de357d80038"
  },
  {
   "cell_type": "markdown",
   "source": [
    "Create an instance of DSS"
   ],
   "metadata": {
    "collapsed": false
   },
   "id": "cafad8f6be8af936"
  },
  {
   "cell_type": "code",
   "execution_count": 19,
   "id": "e7ea683a",
   "metadata": {
    "ExecuteTime": {
     "end_time": "2024-08-25T10:51:17.572183700Z",
     "start_time": "2024-08-25T10:51:17.363972700Z"
    }
   },
   "outputs": [],
   "source": [
    "dss = py_dss_interface.DSS()"
   ]
  },
  {
   "cell_type": "markdown",
   "source": [
    "Connect DSS instance to the dss_tools"
   ],
   "metadata": {
    "collapsed": false
   },
   "id": "35d9ade074cb030e"
  },
  {
   "cell_type": "code",
   "execution_count": 20,
   "outputs": [],
   "source": [
    "dss_tools.update_dss(dss)"
   ],
   "metadata": {
    "collapsed": false,
    "ExecuteTime": {
     "end_time": "2024-08-25T10:51:17.643872200Z",
     "start_time": "2024-08-25T10:51:17.370860800Z"
    }
   },
   "id": "e04e2b15737304ce"
  },
  {
   "cell_type": "markdown",
   "source": [
    "Compile the DSS model from the specified file, load bus coordinates for visualization, and solve the power flow for the system"
   ],
   "metadata": {
    "collapsed": false
   },
   "id": "2acb13e5735a6d9f"
  },
  {
   "cell_type": "code",
   "execution_count": 21,
   "id": "a70188d6",
   "metadata": {
    "ExecuteTime": {
     "end_time": "2024-08-25T10:51:17.665142900Z",
     "start_time": "2024-08-25T10:51:17.375197400Z"
    }
   },
   "outputs": [
    {
     "data": {
      "text/plain": "''"
     },
     "execution_count": 21,
     "metadata": {},
     "output_type": "execute_result"
    }
   ],
   "source": [
    "dss.text(f\"compile [{dss_file}]\")\n",
    "dss.text(f\"buscoords buscoords.dat\")\n",
    "dss.text(f\"solve\")"
   ]
  },
  {
   "cell_type": "markdown",
   "source": [
    "### Retrieve some examples of dataframes from the model"
   ],
   "metadata": {
    "collapsed": false
   },
   "id": "8beb6fbe2f4b2dae"
  },
  {
   "cell_type": "code",
   "execution_count": 22,
   "id": "7449d8b7",
   "metadata": {
    "ExecuteTime": {
     "end_time": "2024-08-25T10:51:17.681194900Z",
     "start_time": "2024-08-25T10:51:17.394629600Z"
    }
   },
   "outputs": [
    {
     "data": {
      "text/plain": "                                count\nbuses                      132.000000\nnodes                      278.000000\nckt elements               237.000000\nvsource                      1.000000\ntransformer                  8.000000\nregcontrol                   7.000000\nline                       126.000000\ncapacitor                    4.000000\nload                        91.000000\nline length                 38.983000\nline min norm amps         400.000000\nline max norm amps         400.000000\ntransformer min norm amps   22.899710\ntransformer max norm amps  915.903414\nload min kw                 20.000000\nload max kw                210.000000",
      "text/html": "<div>\n<style scoped>\n    .dataframe tbody tr th:only-of-type {\n        vertical-align: middle;\n    }\n\n    .dataframe tbody tr th {\n        vertical-align: top;\n    }\n\n    .dataframe thead th {\n        text-align: right;\n    }\n</style>\n<table border=\"1\" class=\"dataframe\">\n  <thead>\n    <tr style=\"text-align: right;\">\n      <th></th>\n      <th>count</th>\n    </tr>\n  </thead>\n  <tbody>\n    <tr>\n      <th>buses</th>\n      <td>132.000000</td>\n    </tr>\n    <tr>\n      <th>nodes</th>\n      <td>278.000000</td>\n    </tr>\n    <tr>\n      <th>ckt elements</th>\n      <td>237.000000</td>\n    </tr>\n    <tr>\n      <th>vsource</th>\n      <td>1.000000</td>\n    </tr>\n    <tr>\n      <th>transformer</th>\n      <td>8.000000</td>\n    </tr>\n    <tr>\n      <th>regcontrol</th>\n      <td>7.000000</td>\n    </tr>\n    <tr>\n      <th>line</th>\n      <td>126.000000</td>\n    </tr>\n    <tr>\n      <th>capacitor</th>\n      <td>4.000000</td>\n    </tr>\n    <tr>\n      <th>load</th>\n      <td>91.000000</td>\n    </tr>\n    <tr>\n      <th>line length</th>\n      <td>38.983000</td>\n    </tr>\n    <tr>\n      <th>line min norm amps</th>\n      <td>400.000000</td>\n    </tr>\n    <tr>\n      <th>line max norm amps</th>\n      <td>400.000000</td>\n    </tr>\n    <tr>\n      <th>transformer min norm amps</th>\n      <td>22.899710</td>\n    </tr>\n    <tr>\n      <th>transformer max norm amps</th>\n      <td>915.903414</td>\n    </tr>\n    <tr>\n      <th>load min kw</th>\n      <td>20.000000</td>\n    </tr>\n    <tr>\n      <th>load max kw</th>\n      <td>210.000000</td>\n    </tr>\n  </tbody>\n</table>\n</div>"
     },
     "execution_count": 22,
     "metadata": {},
     "output_type": "execute_result"
    }
   ],
   "source": [
    "summary_df = dss_tools.model.summary_df  # Summary of the model\n",
    "summary_df"
   ]
  },
  {
   "cell_type": "code",
   "execution_count": 23,
   "outputs": [
    {
     "data": {
      "text/plain": "                name bus1  bus2         type     x1      y1      x2      y2\n0  transformer.reg1a  150  150r  transformer  100.0  1500.0   100.0  1500.0\n1          line.l115  149     1         line  300.0  1500.0   700.0  1500.0\n2            line.l1    1     2         line  700.0  1500.0   700.0  1675.0\n3            line.l2    1     3         line  700.0  1500.0   700.0  1250.0\n4            line.l3    1     7         line  700.0  1500.0  1000.0  1500.0",
      "text/html": "<div>\n<style scoped>\n    .dataframe tbody tr th:only-of-type {\n        vertical-align: middle;\n    }\n\n    .dataframe tbody tr th {\n        vertical-align: top;\n    }\n\n    .dataframe thead th {\n        text-align: right;\n    }\n</style>\n<table border=\"1\" class=\"dataframe\">\n  <thead>\n    <tr style=\"text-align: right;\">\n      <th></th>\n      <th>name</th>\n      <th>bus1</th>\n      <th>bus2</th>\n      <th>type</th>\n      <th>x1</th>\n      <th>y1</th>\n      <th>x2</th>\n      <th>y2</th>\n    </tr>\n  </thead>\n  <tbody>\n    <tr>\n      <th>0</th>\n      <td>transformer.reg1a</td>\n      <td>150</td>\n      <td>150r</td>\n      <td>transformer</td>\n      <td>100.0</td>\n      <td>1500.0</td>\n      <td>100.0</td>\n      <td>1500.0</td>\n    </tr>\n    <tr>\n      <th>1</th>\n      <td>line.l115</td>\n      <td>149</td>\n      <td>1</td>\n      <td>line</td>\n      <td>300.0</td>\n      <td>1500.0</td>\n      <td>700.0</td>\n      <td>1500.0</td>\n    </tr>\n    <tr>\n      <th>2</th>\n      <td>line.l1</td>\n      <td>1</td>\n      <td>2</td>\n      <td>line</td>\n      <td>700.0</td>\n      <td>1500.0</td>\n      <td>700.0</td>\n      <td>1675.0</td>\n    </tr>\n    <tr>\n      <th>3</th>\n      <td>line.l2</td>\n      <td>1</td>\n      <td>3</td>\n      <td>line</td>\n      <td>700.0</td>\n      <td>1500.0</td>\n      <td>700.0</td>\n      <td>1250.0</td>\n    </tr>\n    <tr>\n      <th>4</th>\n      <td>line.l3</td>\n      <td>1</td>\n      <td>7</td>\n      <td>line</td>\n      <td>700.0</td>\n      <td>1500.0</td>\n      <td>1000.0</td>\n      <td>1500.0</td>\n    </tr>\n  </tbody>\n</table>\n</div>"
     },
     "execution_count": 23,
     "metadata": {},
     "output_type": "execute_result"
    }
   ],
   "source": [
    "segments_df = dss_tools.model.segments_df  # Segments data of the network\n",
    "segments_df.head()"
   ],
   "metadata": {
    "collapsed": false,
    "ExecuteTime": {
     "end_time": "2024-08-25T10:51:17.685637900Z",
     "start_time": "2024-08-25T10:51:17.406301100Z"
    }
   },
   "id": "17b4bea3969f3ffe"
  },
  {
   "cell_type": "code",
   "execution_count": 24,
   "outputs": [
    {
     "data": {
      "text/plain": "   name      nodes  num_nodes   kv_base  distance  coord_defined      x  \\\n0   150  [1, 2, 3]          3  2.401777       0.0              1  100.0   \n1  150r  [1, 2, 3]          3  2.401777       0.0              1  100.0   \n2   149  [1, 2, 3]          3  2.401777       0.0              1  300.0   \n3     1  [1, 2, 3]          3  2.401777       0.0              1  700.0   \n4     2        [2]          1  2.401777       0.0              1  700.0   \n\n        y  latitude  longitude all_pce_active_bus  \\\n0  1500.0       0.0        0.0   [Vsource.source]   \n1  1500.0       0.0        0.0             [None]   \n2  1500.0       0.0        0.0             [None]   \n3  1500.0       0.0        0.0         [Load.s1a]   \n4  1675.0       0.0        0.0         [Load.s2b]   \n\n                       all_pde_active_bus  \\\n0                     [Transformer.reg1a]   \n1           [Line.sw1, Transformer.reg1a]   \n2                   [Line.l115, Line.sw1]   \n3  [Line.l115, Line.l1, Line.l2, Line.l3]   \n4                               [Line.l1]   \n\n                                line_list  line_total_miles   load_list  \\\n0                                      []               0.0          []   \n1                              [LINE.sw1]               0.0          []   \n2                   [LINE.l115, LINE.sw1]               0.0          []   \n3  [LINE.l115, LINE.l1, LINE.l2, LINE.l3]               0.0  [LOAD.s1a]   \n4                               [LINE.l1]               0.0  [LOAD.s2b]   \n\n   section_id  total_customers  unique_node_number  \n0           0                0                   4  \n1           0                0                   4  \n2           0                0                   4  \n3           0                0                   4  \n4           0                0                   1  ",
      "text/html": "<div>\n<style scoped>\n    .dataframe tbody tr th:only-of-type {\n        vertical-align: middle;\n    }\n\n    .dataframe tbody tr th {\n        vertical-align: top;\n    }\n\n    .dataframe thead th {\n        text-align: right;\n    }\n</style>\n<table border=\"1\" class=\"dataframe\">\n  <thead>\n    <tr style=\"text-align: right;\">\n      <th></th>\n      <th>name</th>\n      <th>nodes</th>\n      <th>num_nodes</th>\n      <th>kv_base</th>\n      <th>distance</th>\n      <th>coord_defined</th>\n      <th>x</th>\n      <th>y</th>\n      <th>latitude</th>\n      <th>longitude</th>\n      <th>all_pce_active_bus</th>\n      <th>all_pde_active_bus</th>\n      <th>line_list</th>\n      <th>line_total_miles</th>\n      <th>load_list</th>\n      <th>section_id</th>\n      <th>total_customers</th>\n      <th>unique_node_number</th>\n    </tr>\n  </thead>\n  <tbody>\n    <tr>\n      <th>0</th>\n      <td>150</td>\n      <td>[1, 2, 3]</td>\n      <td>3</td>\n      <td>2.401777</td>\n      <td>0.0</td>\n      <td>1</td>\n      <td>100.0</td>\n      <td>1500.0</td>\n      <td>0.0</td>\n      <td>0.0</td>\n      <td>[Vsource.source]</td>\n      <td>[Transformer.reg1a]</td>\n      <td>[]</td>\n      <td>0.0</td>\n      <td>[]</td>\n      <td>0</td>\n      <td>0</td>\n      <td>4</td>\n    </tr>\n    <tr>\n      <th>1</th>\n      <td>150r</td>\n      <td>[1, 2, 3]</td>\n      <td>3</td>\n      <td>2.401777</td>\n      <td>0.0</td>\n      <td>1</td>\n      <td>100.0</td>\n      <td>1500.0</td>\n      <td>0.0</td>\n      <td>0.0</td>\n      <td>[None]</td>\n      <td>[Line.sw1, Transformer.reg1a]</td>\n      <td>[LINE.sw1]</td>\n      <td>0.0</td>\n      <td>[]</td>\n      <td>0</td>\n      <td>0</td>\n      <td>4</td>\n    </tr>\n    <tr>\n      <th>2</th>\n      <td>149</td>\n      <td>[1, 2, 3]</td>\n      <td>3</td>\n      <td>2.401777</td>\n      <td>0.0</td>\n      <td>1</td>\n      <td>300.0</td>\n      <td>1500.0</td>\n      <td>0.0</td>\n      <td>0.0</td>\n      <td>[None]</td>\n      <td>[Line.l115, Line.sw1]</td>\n      <td>[LINE.l115, LINE.sw1]</td>\n      <td>0.0</td>\n      <td>[]</td>\n      <td>0</td>\n      <td>0</td>\n      <td>4</td>\n    </tr>\n    <tr>\n      <th>3</th>\n      <td>1</td>\n      <td>[1, 2, 3]</td>\n      <td>3</td>\n      <td>2.401777</td>\n      <td>0.0</td>\n      <td>1</td>\n      <td>700.0</td>\n      <td>1500.0</td>\n      <td>0.0</td>\n      <td>0.0</td>\n      <td>[Load.s1a]</td>\n      <td>[Line.l115, Line.l1, Line.l2, Line.l3]</td>\n      <td>[LINE.l115, LINE.l1, LINE.l2, LINE.l3]</td>\n      <td>0.0</td>\n      <td>[LOAD.s1a]</td>\n      <td>0</td>\n      <td>0</td>\n      <td>4</td>\n    </tr>\n    <tr>\n      <th>4</th>\n      <td>2</td>\n      <td>[2]</td>\n      <td>1</td>\n      <td>2.401777</td>\n      <td>0.0</td>\n      <td>1</td>\n      <td>700.0</td>\n      <td>1675.0</td>\n      <td>0.0</td>\n      <td>0.0</td>\n      <td>[Load.s2b]</td>\n      <td>[Line.l1]</td>\n      <td>[LINE.l1]</td>\n      <td>0.0</td>\n      <td>[LOAD.s2b]</td>\n      <td>0</td>\n      <td>0</td>\n      <td>1</td>\n    </tr>\n  </tbody>\n</table>\n</div>"
     },
     "execution_count": 24,
     "metadata": {},
     "output_type": "execute_result"
    }
   ],
   "source": [
    "buses_df = dss_tools.model.buses_df  # Bus data\n",
    "buses_df.head()"
   ],
   "metadata": {
    "collapsed": false,
    "ExecuteTime": {
     "end_time": "2024-08-25T10:51:17.712680400Z",
     "start_time": "2024-08-25T10:51:17.425515800Z"
    }
   },
   "id": "47371b34394f194"
  },
  {
   "cell_type": "code",
   "execution_count": 25,
   "outputs": [
    {
     "data": {
      "text/plain": "   name     bus1     bus2 linecode length phases    r1    x1    r0    x0  ...  \\\n0  l115      149        1        1    0.4      3  ----  ----  ----  ----  ...   \n1    l1      1.2      2.2       10  0.175      1  ----  ----  ----  ----  ...   \n2    l2      1.3      3.3       11   0.25      1  ----  ----  ----  ----  ...   \n3    l3  1.1.2.3  7.1.2.3        1    0.3      3  ----  ----  ----  ----  ...   \n4    l4      3.3      4.3       11    0.2      1  ----  ----  ----  ----  ...   \n\n  ratings linetype normamps emergamps faultrate pctperm repair basefreq  \\\n0  [400,]       oh      400       600       0.1      20      3       60   \n1  [400,]       oh      400       600       0.1      20      3       60   \n2  [400,]       oh      400       600       0.1      20      3       60   \n3  [400,]       oh      400       600       0.1      20      3       60   \n4  [400,]       oh      400       600       0.1      20      3       60   \n\n  enabled like  \n0    true       \n1    true       \n2    true       \n3    true       \n4    true       \n\n[5 rows x 39 columns]",
      "text/html": "<div>\n<style scoped>\n    .dataframe tbody tr th:only-of-type {\n        vertical-align: middle;\n    }\n\n    .dataframe tbody tr th {\n        vertical-align: top;\n    }\n\n    .dataframe thead th {\n        text-align: right;\n    }\n</style>\n<table border=\"1\" class=\"dataframe\">\n  <thead>\n    <tr style=\"text-align: right;\">\n      <th></th>\n      <th>name</th>\n      <th>bus1</th>\n      <th>bus2</th>\n      <th>linecode</th>\n      <th>length</th>\n      <th>phases</th>\n      <th>r1</th>\n      <th>x1</th>\n      <th>r0</th>\n      <th>x0</th>\n      <th>...</th>\n      <th>ratings</th>\n      <th>linetype</th>\n      <th>normamps</th>\n      <th>emergamps</th>\n      <th>faultrate</th>\n      <th>pctperm</th>\n      <th>repair</th>\n      <th>basefreq</th>\n      <th>enabled</th>\n      <th>like</th>\n    </tr>\n  </thead>\n  <tbody>\n    <tr>\n      <th>0</th>\n      <td>l115</td>\n      <td>149</td>\n      <td>1</td>\n      <td>1</td>\n      <td>0.4</td>\n      <td>3</td>\n      <td>----</td>\n      <td>----</td>\n      <td>----</td>\n      <td>----</td>\n      <td>...</td>\n      <td>[400,]</td>\n      <td>oh</td>\n      <td>400</td>\n      <td>600</td>\n      <td>0.1</td>\n      <td>20</td>\n      <td>3</td>\n      <td>60</td>\n      <td>true</td>\n      <td></td>\n    </tr>\n    <tr>\n      <th>1</th>\n      <td>l1</td>\n      <td>1.2</td>\n      <td>2.2</td>\n      <td>10</td>\n      <td>0.175</td>\n      <td>1</td>\n      <td>----</td>\n      <td>----</td>\n      <td>----</td>\n      <td>----</td>\n      <td>...</td>\n      <td>[400,]</td>\n      <td>oh</td>\n      <td>400</td>\n      <td>600</td>\n      <td>0.1</td>\n      <td>20</td>\n      <td>3</td>\n      <td>60</td>\n      <td>true</td>\n      <td></td>\n    </tr>\n    <tr>\n      <th>2</th>\n      <td>l2</td>\n      <td>1.3</td>\n      <td>3.3</td>\n      <td>11</td>\n      <td>0.25</td>\n      <td>1</td>\n      <td>----</td>\n      <td>----</td>\n      <td>----</td>\n      <td>----</td>\n      <td>...</td>\n      <td>[400,]</td>\n      <td>oh</td>\n      <td>400</td>\n      <td>600</td>\n      <td>0.1</td>\n      <td>20</td>\n      <td>3</td>\n      <td>60</td>\n      <td>true</td>\n      <td></td>\n    </tr>\n    <tr>\n      <th>3</th>\n      <td>l3</td>\n      <td>1.1.2.3</td>\n      <td>7.1.2.3</td>\n      <td>1</td>\n      <td>0.3</td>\n      <td>3</td>\n      <td>----</td>\n      <td>----</td>\n      <td>----</td>\n      <td>----</td>\n      <td>...</td>\n      <td>[400,]</td>\n      <td>oh</td>\n      <td>400</td>\n      <td>600</td>\n      <td>0.1</td>\n      <td>20</td>\n      <td>3</td>\n      <td>60</td>\n      <td>true</td>\n      <td></td>\n    </tr>\n    <tr>\n      <th>4</th>\n      <td>l4</td>\n      <td>3.3</td>\n      <td>4.3</td>\n      <td>11</td>\n      <td>0.2</td>\n      <td>1</td>\n      <td>----</td>\n      <td>----</td>\n      <td>----</td>\n      <td>----</td>\n      <td>...</td>\n      <td>[400,]</td>\n      <td>oh</td>\n      <td>400</td>\n      <td>600</td>\n      <td>0.1</td>\n      <td>20</td>\n      <td>3</td>\n      <td>60</td>\n      <td>true</td>\n      <td></td>\n    </tr>\n  </tbody>\n</table>\n<p>5 rows × 39 columns</p>\n</div>"
     },
     "execution_count": 25,
     "metadata": {},
     "output_type": "execute_result"
    }
   ],
   "source": [
    "lines_df = dss_tools.model.lines_df  # Line data\n",
    "lines_df.head()"
   ],
   "metadata": {
    "collapsed": false,
    "ExecuteTime": {
     "end_time": "2024-08-25T10:51:17.853725Z",
     "start_time": "2024-08-25T10:51:17.476128600Z"
    }
   },
   "id": "995493edb3530b5a"
  },
  {
   "cell_type": "markdown",
   "source": [
    "### Explore some of the methods of the model\n",
    "Add a line in series with the Vsource, also adding a meter at the source"
   ],
   "metadata": {
    "collapsed": false
   },
   "id": "2f7ae413b2c161c8"
  },
  {
   "cell_type": "code",
   "execution_count": 26,
   "id": "256e40a2",
   "metadata": {
    "ExecuteTime": {
     "end_time": "2024-08-25T10:51:17.854918100Z",
     "start_time": "2024-08-25T10:51:17.669199600Z"
    }
   },
   "outputs": [],
   "source": [
    "dss_tools.model.add_line_in_vsource(add_meter=True)"
   ]
  },
  {
   "cell_type": "markdown",
   "source": [
    "Retrieve the data of the newly added line and inspect the first bus in the system"
   ],
   "metadata": {
    "collapsed": false
   },
   "id": "f560d3e9446ee692"
  },
  {
   "cell_type": "code",
   "execution_count": 27,
   "outputs": [
    {
     "data": {
      "text/plain": "(name                                                feeder_head\n bus1                                              150_unrealbus\n bus2                                                        150\n linecode                                                       \n length                                                    0.001\n phases                                                        3\n r1                                                            1\n x1                                                            1\n r0                                                            1\n x0                                                            1\n c1                                                          1.1\n c0                                                            1\n rmatrix                                        [1 |0 1 |0 0 1 ]\n xmatrix                                        [1 |0 1 |0 0 1 ]\n cmatrix       [1.066667 |-0.03333333 1.066667 |-0.03333333 -...\n switch                                                     True\n rg                                                      0.01805\n xg                                                     0.155081\n rho                                                         100\n geometry                                                       \n units                                                      none\n spacing                                                        \n wires                                                          \n earthmodel                                                 Deri\n cncables                                                       \n tscables                                                       \n b1                                                    0.4146902\n b0                                                    0.3769911\n seasons                                                       1\n ratings                                                  [400,]\n linetype                                                     oh\n normamps                                                    400\n emergamps                                                   600\n faultrate                                                   0.1\n pctperm                                                      20\n repair                                                        3\n basefreq                                                     60\n enabled                                                    true\n like                                                           \n Name: 126, dtype: object,\n name                       150_unrealbus\n nodes                          [1, 2, 3]\n num_nodes                              3\n kv_base                         2.401777\n distance                             0.0\n coord_defined                          1\n x                                  100.0\n y                                 1500.0\n latitude                             0.0\n longitude                            0.0\n all_pce_active_bus      [Vsource.source]\n all_pde_active_bus    [Line.feeder_head]\n line_list             [LINE.feeder_head]\n line_total_miles                     0.0\n load_list                             []\n section_id                             0\n total_customers                        0\n unique_node_number                     4\n Name: 0, dtype: object)"
     },
     "execution_count": 27,
     "metadata": {},
     "output_type": "execute_result"
    }
   ],
   "source": [
    "new_line = dss_tools.model.lines_df.iloc[-1]\n",
    "new_bus = dss_tools.model.buses_df.iloc[0]\n",
    "\n",
    "# Display the new line and bus\n",
    "new_line, new_bus"
   ],
   "metadata": {
    "collapsed": false,
    "ExecuteTime": {
     "end_time": "2024-08-25T10:51:18.151367500Z",
     "start_time": "2024-08-25T10:51:17.676207100Z"
    }
   },
   "id": "76a321e7919e84e8"
  },
  {
   "cell_type": "markdown",
   "source": [
    "Disable all load elements in the system"
   ],
   "metadata": {
    "collapsed": false
   },
   "id": "df3e8fa146bbc8fe"
  },
  {
   "cell_type": "code",
   "execution_count": 28,
   "id": "a835bd46",
   "metadata": {
    "ExecuteTime": {
     "end_time": "2024-08-25T10:51:18.195214600Z",
     "start_time": "2024-08-25T10:51:17.908371800Z"
    }
   },
   "outputs": [
    {
     "data": {
      "text/plain": "Empty DataFrame\nColumns: [name, phases, bus1, kv, kw, pf, model, yearly, daily, duty, growth, conn, kvar, rneut, xneut, status, class, vminpu, vmaxpu, vminnorm, vminemerg, xfkva, allocationfactor, kva, %mean, %stddev, cvrwatts, cvrvars, kwh, kwhdays, cfactor, cvrcurve, numcust, zipv, %seriesrl, relweight, vlowpu, puxharm, xrharm, spectrum, basefreq, enabled, like]\nIndex: []\n\n[0 rows x 43 columns]",
      "text/html": "<div>\n<style scoped>\n    .dataframe tbody tr th:only-of-type {\n        vertical-align: middle;\n    }\n\n    .dataframe tbody tr th {\n        vertical-align: top;\n    }\n\n    .dataframe thead th {\n        text-align: right;\n    }\n</style>\n<table border=\"1\" class=\"dataframe\">\n  <thead>\n    <tr style=\"text-align: right;\">\n      <th></th>\n      <th>name</th>\n      <th>phases</th>\n      <th>bus1</th>\n      <th>kv</th>\n      <th>kw</th>\n      <th>pf</th>\n      <th>model</th>\n      <th>yearly</th>\n      <th>daily</th>\n      <th>duty</th>\n      <th>...</th>\n      <th>zipv</th>\n      <th>%seriesrl</th>\n      <th>relweight</th>\n      <th>vlowpu</th>\n      <th>puxharm</th>\n      <th>xrharm</th>\n      <th>spectrum</th>\n      <th>basefreq</th>\n      <th>enabled</th>\n      <th>like</th>\n    </tr>\n  </thead>\n  <tbody>\n  </tbody>\n</table>\n<p>0 rows × 43 columns</p>\n</div>"
     },
     "execution_count": 28,
     "metadata": {},
     "output_type": "execute_result"
    }
   ],
   "source": [
    "dss_tools.model.disable_elements_type(\"load\")\n",
    "\n",
    "# Check the updated load data\n",
    "loads_df = dss_tools.model.loads_df\n",
    "loads_df"
   ]
  },
  {
   "cell_type": "markdown",
   "source": [
    "Fetch data for a specific line (l115) and inspect its properties"
   ],
   "metadata": {
    "collapsed": false
   },
   "id": "6043f7265f3a57a3"
  },
  {
   "cell_type": "code",
   "execution_count": 29,
   "id": "5e4188b6",
   "metadata": {
    "ExecuteTime": {
     "end_time": "2024-08-25T10:51:18.197230700Z",
     "start_time": "2024-08-25T10:51:17.941203200Z"
    }
   },
   "outputs": [
    {
     "data": {
      "text/plain": "name                                                     l115\nbus1                                                      149\nbus2                                                        1\nlinecode                                                    1\nlength                                                    0.4\nphases                                                      3\nr1                                                       ----\nx1                                                       ----\nr0                                                       ----\nx0                                                       ----\nc1                                                       ----\nc0                                                       ----\nrmatrix     [0.08666667 |0.02954546 0.08837121 |0.02907197...\nxmatrix     [0.2041667 |0.09501894 0.1985227 |0.07289773 0...\ncmatrix     [2.85171 |-0.9202938 3.004632 |-0.3507556 -0.5...\nswitch                                                  False\nrg                                                    0.01805\nxg                                                   0.155081\nrho                                                       100\ngeometry                                                     \nunits                                                    none\nspacing                                                      \nwires                                                        \nearthmodel                                               Deri\ncncables                                                     \ntscables                                                     \nb1                                                       ----\nb0                                                       ----\nseasons                                                     1\nratings                                                [400,]\nlinetype                                                   oh\nnormamps                                                  400\nemergamps                                                 600\nfaultrate                                                 0.1\npctperm                                                    20\nrepair                                                      3\nbasefreq                                                   60\nenabled                                                  true\nlike                                                         ",
      "text/html": "<div>\n<style scoped>\n    .dataframe tbody tr th:only-of-type {\n        vertical-align: middle;\n    }\n\n    .dataframe tbody tr th {\n        vertical-align: top;\n    }\n\n    .dataframe thead th {\n        text-align: right;\n    }\n</style>\n<table border=\"1\" class=\"dataframe\">\n  <thead>\n    <tr style=\"text-align: right;\">\n      <th>name</th>\n      <th>l115</th>\n    </tr>\n  </thead>\n  <tbody>\n    <tr>\n      <th>bus1</th>\n      <td>149</td>\n    </tr>\n    <tr>\n      <th>bus2</th>\n      <td>1</td>\n    </tr>\n    <tr>\n      <th>linecode</th>\n      <td>1</td>\n    </tr>\n    <tr>\n      <th>length</th>\n      <td>0.4</td>\n    </tr>\n    <tr>\n      <th>phases</th>\n      <td>3</td>\n    </tr>\n    <tr>\n      <th>r1</th>\n      <td>----</td>\n    </tr>\n    <tr>\n      <th>x1</th>\n      <td>----</td>\n    </tr>\n    <tr>\n      <th>r0</th>\n      <td>----</td>\n    </tr>\n    <tr>\n      <th>x0</th>\n      <td>----</td>\n    </tr>\n    <tr>\n      <th>c1</th>\n      <td>----</td>\n    </tr>\n    <tr>\n      <th>c0</th>\n      <td>----</td>\n    </tr>\n    <tr>\n      <th>rmatrix</th>\n      <td>[0.08666667 |0.02954546 0.08837121 |0.02907197...</td>\n    </tr>\n    <tr>\n      <th>xmatrix</th>\n      <td>[0.2041667 |0.09501894 0.1985227 |0.07289773 0...</td>\n    </tr>\n    <tr>\n      <th>cmatrix</th>\n      <td>[2.85171 |-0.9202938 3.004632 |-0.3507556 -0.5...</td>\n    </tr>\n    <tr>\n      <th>switch</th>\n      <td>False</td>\n    </tr>\n    <tr>\n      <th>rg</th>\n      <td>0.01805</td>\n    </tr>\n    <tr>\n      <th>xg</th>\n      <td>0.155081</td>\n    </tr>\n    <tr>\n      <th>rho</th>\n      <td>100</td>\n    </tr>\n    <tr>\n      <th>geometry</th>\n      <td></td>\n    </tr>\n    <tr>\n      <th>units</th>\n      <td>none</td>\n    </tr>\n    <tr>\n      <th>spacing</th>\n      <td></td>\n    </tr>\n    <tr>\n      <th>wires</th>\n      <td></td>\n    </tr>\n    <tr>\n      <th>earthmodel</th>\n      <td>Deri</td>\n    </tr>\n    <tr>\n      <th>cncables</th>\n      <td></td>\n    </tr>\n    <tr>\n      <th>tscables</th>\n      <td></td>\n    </tr>\n    <tr>\n      <th>b1</th>\n      <td>----</td>\n    </tr>\n    <tr>\n      <th>b0</th>\n      <td>----</td>\n    </tr>\n    <tr>\n      <th>seasons</th>\n      <td>1</td>\n    </tr>\n    <tr>\n      <th>ratings</th>\n      <td>[400,]</td>\n    </tr>\n    <tr>\n      <th>linetype</th>\n      <td>oh</td>\n    </tr>\n    <tr>\n      <th>normamps</th>\n      <td>400</td>\n    </tr>\n    <tr>\n      <th>emergamps</th>\n      <td>600</td>\n    </tr>\n    <tr>\n      <th>faultrate</th>\n      <td>0.1</td>\n    </tr>\n    <tr>\n      <th>pctperm</th>\n      <td>20</td>\n    </tr>\n    <tr>\n      <th>repair</th>\n      <td>3</td>\n    </tr>\n    <tr>\n      <th>basefreq</th>\n      <td>60</td>\n    </tr>\n    <tr>\n      <th>enabled</th>\n      <td>true</td>\n    </tr>\n    <tr>\n      <th>like</th>\n      <td></td>\n    </tr>\n  </tbody>\n</table>\n</div>"
     },
     "execution_count": 29,
     "metadata": {},
     "output_type": "execute_result"
    }
   ],
   "source": [
    "line_l115_data = dss_tools.model.element_data(\"line\", \"l115\")\n",
    "line_l115_data"
   ]
  },
  {
   "cell_type": "markdown",
   "source": [
    "Check if the element 'l115' is present in the model"
   ],
   "metadata": {
    "collapsed": false
   },
   "id": "b5c43f8c9afb6cca"
  },
  {
   "cell_type": "code",
   "execution_count": 30,
   "outputs": [
    {
     "data": {
      "text/plain": "True"
     },
     "execution_count": 30,
     "metadata": {},
     "output_type": "execute_result"
    }
   ],
   "source": [
    "is_line_l115 = dss_tools.model.is_element_in_model(\"line\", \"l115\")\n",
    "is_line_l115"
   ],
   "metadata": {
    "collapsed": false,
    "ExecuteTime": {
     "end_time": "2024-08-25T10:51:18.197230700Z",
     "start_time": "2024-08-25T10:51:17.957781700Z"
    }
   },
   "id": "93aa1f40ae38ffa2"
  },
  {
   "cell_type": "markdown",
   "source": [
    "Modify properties of the line 'l115' (e.g., change its rating) and verify the changes made to the line 'l115'"
   ],
   "metadata": {
    "collapsed": false
   },
   "id": "f28d48dc8ce8123e"
  },
  {
   "cell_type": "code",
   "execution_count": 31,
   "outputs": [
    {
     "data": {
      "text/plain": "name                                                     l115\nbus1                                                      149\nbus2                                                        1\nlinecode                                                    1\nlength                                                    0.4\nphases                                                      3\nr1                                                       ----\nx1                                                       ----\nr0                                                       ----\nx0                                                       ----\nc1                                                       ----\nc0                                                       ----\nrmatrix     [0.08666667 |0.02954546 0.08837121 |0.02907197...\nxmatrix     [0.2041667 |0.09501894 0.1985227 |0.07289773 0...\ncmatrix     [2.85171 |-0.9202938 3.004632 |-0.3507556 -0.5...\nswitch                                                  False\nrg                                                    0.01805\nxg                                                   0.155081\nrho                                                       100\ngeometry                                                     \nunits                                                    none\nspacing                                                      \nwires                                                        \nearthmodel                                               Deri\ncncables                                                     \ntscables                                                     \nb1                                                       ----\nb0                                                       ----\nseasons                                                     1\nratings                                                [400,]\nlinetype                                                   oh\nnormamps                                                  800\nemergamps                                                1000\nfaultrate                                                 0.1\npctperm                                                    20\nrepair                                                      3\nbasefreq                                                   60\nenabled                                                  true\nlike                                                         ",
      "text/html": "<div>\n<style scoped>\n    .dataframe tbody tr th:only-of-type {\n        vertical-align: middle;\n    }\n\n    .dataframe tbody tr th {\n        vertical-align: top;\n    }\n\n    .dataframe thead th {\n        text-align: right;\n    }\n</style>\n<table border=\"1\" class=\"dataframe\">\n  <thead>\n    <tr style=\"text-align: right;\">\n      <th>name</th>\n      <th>l115</th>\n    </tr>\n  </thead>\n  <tbody>\n    <tr>\n      <th>bus1</th>\n      <td>149</td>\n    </tr>\n    <tr>\n      <th>bus2</th>\n      <td>1</td>\n    </tr>\n    <tr>\n      <th>linecode</th>\n      <td>1</td>\n    </tr>\n    <tr>\n      <th>length</th>\n      <td>0.4</td>\n    </tr>\n    <tr>\n      <th>phases</th>\n      <td>3</td>\n    </tr>\n    <tr>\n      <th>r1</th>\n      <td>----</td>\n    </tr>\n    <tr>\n      <th>x1</th>\n      <td>----</td>\n    </tr>\n    <tr>\n      <th>r0</th>\n      <td>----</td>\n    </tr>\n    <tr>\n      <th>x0</th>\n      <td>----</td>\n    </tr>\n    <tr>\n      <th>c1</th>\n      <td>----</td>\n    </tr>\n    <tr>\n      <th>c0</th>\n      <td>----</td>\n    </tr>\n    <tr>\n      <th>rmatrix</th>\n      <td>[0.08666667 |0.02954546 0.08837121 |0.02907197...</td>\n    </tr>\n    <tr>\n      <th>xmatrix</th>\n      <td>[0.2041667 |0.09501894 0.1985227 |0.07289773 0...</td>\n    </tr>\n    <tr>\n      <th>cmatrix</th>\n      <td>[2.85171 |-0.9202938 3.004632 |-0.3507556 -0.5...</td>\n    </tr>\n    <tr>\n      <th>switch</th>\n      <td>False</td>\n    </tr>\n    <tr>\n      <th>rg</th>\n      <td>0.01805</td>\n    </tr>\n    <tr>\n      <th>xg</th>\n      <td>0.155081</td>\n    </tr>\n    <tr>\n      <th>rho</th>\n      <td>100</td>\n    </tr>\n    <tr>\n      <th>geometry</th>\n      <td></td>\n    </tr>\n    <tr>\n      <th>units</th>\n      <td>none</td>\n    </tr>\n    <tr>\n      <th>spacing</th>\n      <td></td>\n    </tr>\n    <tr>\n      <th>wires</th>\n      <td></td>\n    </tr>\n    <tr>\n      <th>earthmodel</th>\n      <td>Deri</td>\n    </tr>\n    <tr>\n      <th>cncables</th>\n      <td></td>\n    </tr>\n    <tr>\n      <th>tscables</th>\n      <td></td>\n    </tr>\n    <tr>\n      <th>b1</th>\n      <td>----</td>\n    </tr>\n    <tr>\n      <th>b0</th>\n      <td>----</td>\n    </tr>\n    <tr>\n      <th>seasons</th>\n      <td>1</td>\n    </tr>\n    <tr>\n      <th>ratings</th>\n      <td>[400,]</td>\n    </tr>\n    <tr>\n      <th>linetype</th>\n      <td>oh</td>\n    </tr>\n    <tr>\n      <th>normamps</th>\n      <td>800</td>\n    </tr>\n    <tr>\n      <th>emergamps</th>\n      <td>1000</td>\n    </tr>\n    <tr>\n      <th>faultrate</th>\n      <td>0.1</td>\n    </tr>\n    <tr>\n      <th>pctperm</th>\n      <td>20</td>\n    </tr>\n    <tr>\n      <th>repair</th>\n      <td>3</td>\n    </tr>\n    <tr>\n      <th>basefreq</th>\n      <td>60</td>\n    </tr>\n    <tr>\n      <th>enabled</th>\n      <td>true</td>\n    </tr>\n    <tr>\n      <th>like</th>\n      <td></td>\n    </tr>\n  </tbody>\n</table>\n</div>"
     },
     "execution_count": 31,
     "metadata": {},
     "output_type": "execute_result"
    }
   ],
   "source": [
    "dss_tools.model.edit_element(\"line\", \"l115\", dict(normamps=800, emergamps=1000))\n",
    "new_line_l115_data = dss_tools.model.element_data(\"line\", \"l115\")\n",
    "new_line_l115_data"
   ],
   "metadata": {
    "collapsed": false,
    "ExecuteTime": {
     "end_time": "2024-08-25T10:51:18.198227800Z",
     "start_time": "2024-08-25T10:51:17.967184300Z"
    }
   },
   "id": "ee04baec498667f4"
  },
  {
   "cell_type": "markdown",
   "source": [
    "Add a new load element to the system and check the updated load data"
   ],
   "metadata": {
    "collapsed": false
   },
   "id": "c0cb1cfe0c3549e1"
  },
  {
   "cell_type": "code",
   "execution_count": 32,
   "id": "70eb28eb",
   "metadata": {
    "ExecuteTime": {
     "end_time": "2024-08-25T10:51:18.275872Z",
     "start_time": "2024-08-25T10:51:17.982429800Z"
    }
   },
   "outputs": [
    {
     "data": {
      "text/plain": "      name phases bus1    kv   kw    pf model yearly daily duty  ... zipv  \\\n0  my_load      3    1  4.16  100  0.88     1                    ...        \n\n  %seriesrl relweight vlowpu puxharm xrharm     spectrum basefreq enabled like  \n0        50         1    0.5       0      6  defaultload       60    true       \n\n[1 rows x 43 columns]",
      "text/html": "<div>\n<style scoped>\n    .dataframe tbody tr th:only-of-type {\n        vertical-align: middle;\n    }\n\n    .dataframe tbody tr th {\n        vertical-align: top;\n    }\n\n    .dataframe thead th {\n        text-align: right;\n    }\n</style>\n<table border=\"1\" class=\"dataframe\">\n  <thead>\n    <tr style=\"text-align: right;\">\n      <th></th>\n      <th>name</th>\n      <th>phases</th>\n      <th>bus1</th>\n      <th>kv</th>\n      <th>kw</th>\n      <th>pf</th>\n      <th>model</th>\n      <th>yearly</th>\n      <th>daily</th>\n      <th>duty</th>\n      <th>...</th>\n      <th>zipv</th>\n      <th>%seriesrl</th>\n      <th>relweight</th>\n      <th>vlowpu</th>\n      <th>puxharm</th>\n      <th>xrharm</th>\n      <th>spectrum</th>\n      <th>basefreq</th>\n      <th>enabled</th>\n      <th>like</th>\n    </tr>\n  </thead>\n  <tbody>\n    <tr>\n      <th>0</th>\n      <td>my_load</td>\n      <td>3</td>\n      <td>1</td>\n      <td>4.16</td>\n      <td>100</td>\n      <td>0.88</td>\n      <td>1</td>\n      <td></td>\n      <td></td>\n      <td></td>\n      <td>...</td>\n      <td></td>\n      <td>50</td>\n      <td>1</td>\n      <td>0.5</td>\n      <td>0</td>\n      <td>6</td>\n      <td>defaultload</td>\n      <td>60</td>\n      <td>true</td>\n      <td></td>\n    </tr>\n  </tbody>\n</table>\n<p>1 rows × 43 columns</p>\n</div>"
     },
     "execution_count": 32,
     "metadata": {},
     "output_type": "execute_result"
    }
   ],
   "source": [
    "dss_tools.model.add_element(\"load\", \"my_load\", dict(phases=3, bus1=1, kv=4.16, kw=100))\n",
    "new_loads_df = dss_tools.model.loads_df\n",
    "new_loads_df"
   ]
  },
  {
   "cell_type": "markdown",
   "source": [
    "### Conclusion\n",
    "\n",
    "In this notebook, we demonstrated several key capabilities of the model functionality within py_dss_tools. By exploring and manipulating the model, we showcased how this tool can be used to interact with a test case feeder. This includes adding new elements, modifying existing components, and disabling elements like loads. These examples illustrate the flexibility of the tool's model capabilities. If you have any suggestions or ideas for additional features that would enhance the functionality, please feel free to reach out to me. I'm always open to feedback and collaboration to improve this tool."
   ],
   "metadata": {
    "collapsed": false
   },
   "id": "1756d680238a198d"
  }
 ],
 "metadata": {
  "kernelspec": {
   "name": "python3",
   "language": "python",
   "display_name": "Python 3 (ipykernel)"
  }
 },
 "nbformat": 4,
 "nbformat_minor": 5
}
